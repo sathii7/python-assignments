{
 "cells": [
  {
   "cell_type": "code",
   "execution_count": 1,
   "id": "9f77814b",
   "metadata": {},
   "outputs": [
    {
     "name": "stdout",
     "output_type": "stream",
     "text": [
      "i am working with python\n"
     ]
    }
   ],
   "source": [
    "a=\"i am working with python\"\n",
    "print(a)"
   ]
  },
  {
   "cell_type": "code",
   "execution_count": 2,
   "id": "1a03fbf2",
   "metadata": {},
   "outputs": [
    {
     "data": {
      "text/plain": [
       "['', ' am work', 'ng w', 'th python']"
      ]
     },
     "execution_count": 2,
     "metadata": {},
     "output_type": "execute_result"
    }
   ],
   "source": [
    "a.split('i')"
   ]
  },
  {
   "cell_type": "code",
   "execution_count": 3,
   "id": "ce4eef33",
   "metadata": {},
   "outputs": [
    {
     "data": {
      "text/plain": [
       "'I AM WORKING WITH PYTHON'"
      ]
     },
     "execution_count": 3,
     "metadata": {},
     "output_type": "execute_result"
    }
   ],
   "source": [
    "a.upper()"
   ]
  },
  {
   "cell_type": "code",
   "execution_count": 4,
   "id": "172f0771",
   "metadata": {},
   "outputs": [
    {
     "data": {
      "text/plain": [
       "'i am working with python'"
      ]
     },
     "execution_count": 4,
     "metadata": {},
     "output_type": "execute_result"
    }
   ],
   "source": [
    "a.lower()"
   ]
  },
  {
   "cell_type": "code",
   "execution_count": 5,
   "id": "fe682851",
   "metadata": {},
   "outputs": [
    {
     "data": {
      "text/plain": [
       "'I AM WORKING WITH PYTHON'"
      ]
     },
     "execution_count": 5,
     "metadata": {},
     "output_type": "execute_result"
    }
   ],
   "source": [
    "a.swapcase()"
   ]
  },
  {
   "cell_type": "code",
   "execution_count": 6,
   "id": "ad3d2120",
   "metadata": {},
   "outputs": [
    {
     "data": {
      "text/plain": [
       "True"
      ]
     },
     "execution_count": 6,
     "metadata": {},
     "output_type": "execute_result"
    }
   ],
   "source": [
    "a.endswith('n')"
   ]
  },
  {
   "cell_type": "code",
   "execution_count": 7,
   "id": "8ea4d64f",
   "metadata": {},
   "outputs": [
    {
     "data": {
      "text/plain": [
       "'I Am Working With Python'"
      ]
     },
     "execution_count": 7,
     "metadata": {},
     "output_type": "execute_result"
    }
   ],
   "source": [
    "a.title()"
   ]
  },
  {
   "cell_type": "code",
   "execution_count": 8,
   "id": "8b9f7d63",
   "metadata": {},
   "outputs": [
    {
     "data": {
      "text/plain": [
       "'I am working with python'"
      ]
     },
     "execution_count": 8,
     "metadata": {},
     "output_type": "execute_result"
    }
   ],
   "source": [
    "a.capitalize()"
   ]
  },
  {
   "cell_type": "code",
   "execution_count": 9,
   "id": "e2050785",
   "metadata": {},
   "outputs": [
    {
     "data": {
      "text/plain": [
       "'2/0/1/0/2/0/0/2'"
      ]
     },
     "execution_count": 9,
     "metadata": {},
     "output_type": "execute_result"
    }
   ],
   "source": [
    "\"/\".join(\"20102002\")"
   ]
  },
  {
   "cell_type": "code",
   "execution_count": 10,
   "id": "b49c22f6",
   "metadata": {
    "scrolled": true
   },
   "outputs": [
    {
     "name": "stdout",
     "output_type": "stream",
     "text": [
      "h\n",
      "s\n",
      "i\n",
      "h\n",
      "t\n",
      "a\n",
      "s\n"
     ]
    }
   ],
   "source": [
    "for i in reversed(\"sathish\"):\n",
    "    print(i)"
   ]
  },
  {
   "cell_type": "code",
   "execution_count": 11,
   "id": "d8a089c5",
   "metadata": {},
   "outputs": [
    {
     "data": {
      "text/plain": [
       "'Billio naire'"
      ]
     },
     "execution_count": 11,
     "metadata": {},
     "output_type": "execute_result"
    }
   ],
   "source": [
    "s=\"    Billio naire   \"\n",
    "s.strip()"
   ]
  },
  {
   "cell_type": "code",
   "execution_count": 12,
   "id": "d4ac76fd",
   "metadata": {},
   "outputs": [
    {
     "data": {
      "text/plain": [
       "'    Millio naire   '"
      ]
     },
     "execution_count": 12,
     "metadata": {},
     "output_type": "execute_result"
    }
   ],
   "source": [
    "s.strip()\n",
    "s\n",
    "s.replace(\"Billio\",\"Millio\")"
   ]
  },
  {
   "cell_type": "code",
   "execution_count": 13,
   "id": "749df289",
   "metadata": {},
   "outputs": [
    {
     "data": {
      "text/plain": [
       "5"
      ]
     },
     "execution_count": 13,
     "metadata": {},
     "output_type": "execute_result"
    }
   ],
   "source": [
    "s.index(\"i\")"
   ]
  },
  {
   "cell_type": "code",
   "execution_count": 14,
   "id": "814f3b61",
   "metadata": {},
   "outputs": [
    {
     "data": {
      "text/plain": [
       "'##########    Billio naire   ###########'"
      ]
     },
     "execution_count": 14,
     "metadata": {},
     "output_type": "execute_result"
    }
   ],
   "source": [
    "s.center(40,'#')"
   ]
  },
  {
   "cell_type": "code",
   "execution_count": 15,
   "id": "87230035",
   "metadata": {},
   "outputs": [
    {
     "data": {
      "text/plain": [
       "False"
      ]
     },
     "execution_count": 15,
     "metadata": {},
     "output_type": "execute_result"
    }
   ],
   "source": [
    "a.istitle()"
   ]
  },
  {
   "cell_type": "code",
   "execution_count": 16,
   "id": "19ce0064",
   "metadata": {},
   "outputs": [
    {
     "data": {
      "text/plain": [
       "False"
      ]
     },
     "execution_count": 16,
     "metadata": {},
     "output_type": "execute_result"
    }
   ],
   "source": [
    "s.startswith(\"a\")"
   ]
  },
  {
   "cell_type": "code",
   "execution_count": 17,
   "id": "aa8b97b9",
   "metadata": {},
   "outputs": [
    {
     "data": {
      "text/plain": [
       "True"
      ]
     },
     "execution_count": 17,
     "metadata": {},
     "output_type": "execute_result"
    }
   ],
   "source": [
    "s.endswith(\" \")"
   ]
  },
  {
   "cell_type": "code",
   "execution_count": 18,
   "id": "dae386e7",
   "metadata": {},
   "outputs": [
    {
     "data": {
      "text/plain": [
       "b'    Billio naire   '"
      ]
     },
     "execution_count": 18,
     "metadata": {},
     "output_type": "execute_result"
    }
   ],
   "source": [
    "s.encode()"
   ]
  },
  {
   "cell_type": "code",
   "execution_count": 19,
   "id": "e99fbd7e",
   "metadata": {},
   "outputs": [
    {
     "name": "stdout",
     "output_type": "stream",
     "text": [
      "['sath', 125, 251.21, True]\n"
     ]
    }
   ],
   "source": [
    "l=[\"sath\",125,251.21,True]\n",
    "print(l)"
   ]
  },
  {
   "cell_type": "code",
   "execution_count": 20,
   "id": "29694f40",
   "metadata": {},
   "outputs": [
    {
     "name": "stdout",
     "output_type": "stream",
     "text": [
      "<class 'str'>\n"
     ]
    }
   ],
   "source": [
    "print(type(l[0][1]))"
   ]
  },
  {
   "cell_type": "code",
   "execution_count": 21,
   "id": "035707a8",
   "metadata": {},
   "outputs": [
    {
     "data": {
      "text/plain": [
       "['sath', 125, 251.21, True, (5+4j)]"
      ]
     },
     "execution_count": 21,
     "metadata": {},
     "output_type": "execute_result"
    }
   ],
   "source": [
    "l+[5+4j]"
   ]
  },
  {
   "cell_type": "code",
   "execution_count": 22,
   "id": "9868cf11",
   "metadata": {},
   "outputs": [
    {
     "data": {
      "text/plain": [
       "['Name', 125, 251.21, True]"
      ]
     },
     "execution_count": 22,
     "metadata": {},
     "output_type": "execute_result"
    }
   ],
   "source": [
    "l[0]=\"Name\"\n",
    "l"
   ]
  },
  {
   "cell_type": "code",
   "execution_count": 23,
   "id": "ed0b8841",
   "metadata": {
    "scrolled": true
   },
   "outputs": [
    {
     "name": "stdout",
     "output_type": "stream",
     "text": [
      "sathi\n",
      "125\n",
      "251.21\n",
      "True\n"
     ]
    }
   ],
   "source": [
    "l=[\"sathi\",125,251.21,True]\n",
    "for i in l:\n",
    "    print(i)"
   ]
  },
  {
   "cell_type": "code",
   "execution_count": 24,
   "id": "d282cf90",
   "metadata": {},
   "outputs": [
    {
     "name": "stdout",
     "output_type": "stream",
     "text": [
      "B\n",
      "i\n",
      "l\n",
      "l\n",
      "i\n",
      "o\n",
      "n\n",
      "a\n",
      "i\n",
      "r\n",
      "e\n"
     ]
    }
   ],
   "source": [
    "for a in \"Billionaire\":\n",
    "    print(a)"
   ]
  },
  {
   "cell_type": "code",
   "execution_count": 25,
   "id": "e6e7f9f9",
   "metadata": {},
   "outputs": [
    {
     "name": "stdout",
     "output_type": "stream",
     "text": [
      "the type is 1 <class 'int'>\n",
      "the type is 4 <class 'int'>\n",
      "the type is 5.6 <class 'float'>\n",
      "the type is (4+7j) <class 'complex'>\n",
      "the type is sath <class 'str'>\n"
     ]
    }
   ],
   "source": [
    "l=[1,4,5.6,4+7j,\"sath\"]\n",
    "for i in l:\n",
    "    print(\"the type is\",i,type(i))"
   ]
  },
  {
   "cell_type": "code",
   "execution_count": 26,
   "id": "6f8e6ab9",
   "metadata": {},
   "outputs": [
    {
     "name": "stdout",
     "output_type": "stream",
     "text": [
      "2\n",
      "58\n",
      "25\n"
     ]
    }
   ],
   "source": [
    "l=[2,58,25,\"sathi\"]\n",
    "for i in l:\n",
    "    if type(i)==int:\n",
    "        print(i)"
   ]
  },
  {
   "cell_type": "code",
   "execution_count": 27,
   "id": "f85c520e",
   "metadata": {},
   "outputs": [
    {
     "name": "stdout",
     "output_type": "stream",
     "text": [
      "0 1\n",
      "1 4\n",
      "2 5.6\n",
      "3 (4+7j)\n",
      "4 sath\n"
     ]
    }
   ],
   "source": [
    " l=[1,4,5.6,4+7j,\"sath\"]\n",
    "len(l)\n",
    "for i in range(len(l)):\n",
    "    print(i,l[i])"
   ]
  },
  {
   "cell_type": "code",
   "execution_count": 28,
   "id": "71725706",
   "metadata": {},
   "outputs": [
    {
     "name": "stdout",
     "output_type": "stream",
     "text": [
      "0 1\n",
      "1 4\n",
      "2 5.6\n",
      "3 (4+7j)\n",
      "4 sath\n"
     ]
    }
   ],
   "source": [
    "for i,j in enumerate(l):\n",
    "    print(i,j)"
   ]
  },
  {
   "cell_type": "code",
   "execution_count": 29,
   "id": "eee9ae27",
   "metadata": {},
   "outputs": [
    {
     "name": "stdout",
     "output_type": "stream",
     "text": [
      "['s', 'a', 't', 'h']\n",
      "['s', 'i', 'g', 'm', 'a', ' ', 'M', 'a', 'l', 'e']\n"
     ]
    }
   ],
   "source": [
    "l=[1,4,5.6,4+7j,\"sath\",\"sigma Male\"]\n",
    "for i in l:\n",
    "    if type(i)==str:\n",
    "        a=[]\n",
    "        for j in i:\n",
    "            a.append(j)\n",
    "        print(a)"
   ]
  },
  {
   "cell_type": "code",
   "execution_count": 30,
   "id": "52b8a7aa",
   "metadata": {},
   "outputs": [
    {
     "name": "stdout",
     "output_type": "stream",
     "text": [
      "[4, 2025, 5625, 144]\n"
     ]
    }
   ],
   "source": [
    "l=[2,45,75,12,\"sath\",6+7j,[56,54,555,\"dads\"]]\n",
    "b=[]\n",
    "for i in l:\n",
    "    if type(i)== int:\n",
    "        b.append(i**2)\n",
    "print(b)          "
   ]
  },
  {
   "cell_type": "code",
   "execution_count": 31,
   "id": "4f7598ed",
   "metadata": {},
   "outputs": [],
   "source": [
    "s=\"sathi\"\n",
    "for i in s:\n",
    "    if i ==\"i\":\n",
    "        break\n",
    "else:\n",
    "    print(\"Not available\")"
   ]
  },
  {
   "cell_type": "code",
   "execution_count": 32,
   "id": "1f9c09cc",
   "metadata": {},
   "outputs": [
    {
     "name": "stdout",
     "output_type": "stream",
     "text": [
      "1\n",
      "6\n",
      "11\n",
      "16\n",
      "21\n",
      "26\n",
      "31\n",
      "36\n",
      "41\n",
      "46\n",
      "51\n",
      "56\n",
      "61\n",
      "66\n",
      "71\n",
      "76\n",
      "81\n",
      "86\n",
      "91\n",
      "96\n"
     ]
    }
   ],
   "source": [
    "a=1\n",
    "while a<100:\n",
    "    print(a)\n",
    "    a=a+5"
   ]
  },
  {
   "cell_type": "code",
   "execution_count": 33,
   "id": "2fe51a19",
   "metadata": {},
   "outputs": [
    {
     "data": {
      "text/plain": [
       "[3, 2, 1, 0, -1, -2, -3, -4]"
      ]
     },
     "execution_count": 33,
     "metadata": {},
     "output_type": "execute_result"
    }
   ],
   "source": [
    "list(range(3,-5,-1))"
   ]
  },
  {
   "cell_type": "code",
   "execution_count": 34,
   "id": "2467c920",
   "metadata": {},
   "outputs": [
    {
     "data": {
      "text/plain": [
       "[0, 1, 2, 3, 4, 5]"
      ]
     },
     "execution_count": 34,
     "metadata": {},
     "output_type": "execute_result"
    }
   ],
   "source": [
    "list(range(6))"
   ]
  },
  {
   "cell_type": "code",
   "execution_count": 35,
   "id": "b5f505e4",
   "metadata": {},
   "outputs": [
    {
     "data": {
      "text/plain": [
       "[10, 9, 8, 7]"
      ]
     },
     "execution_count": 35,
     "metadata": {},
     "output_type": "execute_result"
    }
   ],
   "source": [
    "list(range(10,6,-1))"
   ]
  },
  {
   "cell_type": "code",
   "execution_count": 36,
   "id": "6b401d3c",
   "metadata": {},
   "outputs": [
    {
     "name": "stdout",
     "output_type": "stream",
     "text": [
      "*\r\n",
      "**\r\n",
      "***\r\n",
      "****\r\n",
      "*****\r\n",
      "******\r\n",
      "*******\r\n"
     ]
    }
   ],
   "source": [
    "n=7\n",
    "for i in range(0,n):\n",
    "    for j in range(0,i+1):\n",
    "        print(\"*\",end=\"\")\n",
    "    print(\"\\r\")"
   ]
  },
  {
   "cell_type": "code",
   "execution_count": 37,
   "id": "c5a4688b",
   "metadata": {},
   "outputs": [
    {
     "name": "stdout",
     "output_type": "stream",
     "text": [
      "0 1\n",
      "1 5\n",
      "2 5\n",
      "3 1\n",
      "4 4\n",
      "5 2\n"
     ]
    }
   ],
   "source": [
    "t=(1,5,5,1,4,2)\n",
    "for i in range(len(t)):\n",
    "    print(i,t[i])"
   ]
  },
  {
   "cell_type": "code",
   "execution_count": 38,
   "id": "04f0659c",
   "metadata": {},
   "outputs": [
    {
     "name": "stdout",
     "output_type": "stream",
     "text": [
      "2\n",
      "4\n",
      "1\n",
      "5\n",
      "5\n",
      "1\n"
     ]
    }
   ],
   "source": [
    "for i in range(len(t)-1,-1,-1):\n",
    "    print(t[i])"
   ]
  },
  {
   "cell_type": "code",
   "execution_count": 39,
   "id": "debf139f",
   "metadata": {},
   "outputs": [
    {
     "data": {
      "text/plain": [
       "'sathi'"
      ]
     },
     "execution_count": 39,
     "metadata": {},
     "output_type": "execute_result"
    }
   ],
   "source": [
    "d={\"name\":\"sathi\",\"age\":\"22\"}\n",
    "d.get(\"name\",0)"
   ]
  },
  {
   "cell_type": "code",
   "execution_count": 40,
   "id": "1cbc0b24",
   "metadata": {},
   "outputs": [
    {
     "name": "stdout",
     "output_type": "stream",
     "text": [
      "name\n",
      "age\n"
     ]
    }
   ],
   "source": [
    "d={\"name\":\"sathi\",\"age\":\"22\"}\n",
    "for k in d.keys():\n",
    "    print(k)"
   ]
  },
  {
   "cell_type": "code",
   "execution_count": 41,
   "id": "6aa09069",
   "metadata": {},
   "outputs": [
    {
     "data": {
      "text/plain": [
       "{3.0, 4.0, 6, 35, 36.0, 46}"
      ]
     },
     "execution_count": 41,
     "metadata": {},
     "output_type": "execute_result"
    }
   ],
   "source": [
    "s={35,36.,3.,6,6,4.,4,46,}\n",
    "s"
   ]
  },
  {
   "cell_type": "code",
   "execution_count": 42,
   "id": "c5e11dfd",
   "metadata": {},
   "outputs": [
    {
     "name": "stdout",
     "output_type": "stream",
     "text": [
      "35\n",
      "3.0\n",
      "36.0\n",
      "4.0\n",
      "6\n",
      "46\n"
     ]
    }
   ],
   "source": [
    "for i in s:\n",
    "    print(i)"
   ]
  },
  {
   "cell_type": "code",
   "execution_count": 43,
   "id": "6759e510",
   "metadata": {},
   "outputs": [
    {
     "name": "stdout",
     "output_type": "stream",
     "text": [
      "38\n"
     ]
    }
   ],
   "source": [
    "v=\"I am gonna become a Billionaire oneday\"\n",
    "count=0\n",
    "for i in v:\n",
    "    count+=1\n",
    "print(count)"
   ]
  },
  {
   "cell_type": "code",
   "execution_count": 44,
   "id": "be3bc969",
   "metadata": {},
   "outputs": [
    {
     "name": "stdout",
     "output_type": "stream",
     "text": [
      "yadeno erianoilliB a emoceb annog ma I"
     ]
    }
   ],
   "source": [
    "for i in range(len(v)-1,-1,-1):\n",
    "    print(v[i],end=\"\")"
   ]
  },
  {
   "cell_type": "code",
   "execution_count": 45,
   "id": "e0e9d573",
   "metadata": {},
   "outputs": [
    {
     "name": "stdout",
     "output_type": "stream",
     "text": [
      "yadeno erianoilliB a emoceb annog ma I"
     ]
    }
   ],
   "source": [
    "i=len(v)-1\n",
    "while i>-1:\n",
    "    print(v[i],end=\"\")\n",
    "    i=i-1"
   ]
  },
  {
   "cell_type": "code",
   "execution_count": 46,
   "id": "fffc4e9a",
   "metadata": {},
   "outputs": [
    {
     "name": "stdout",
     "output_type": "stream",
     "text": [
      "Not Vowel S\n",
      "vowel a\n",
      "Not Vowel t\n",
      "Not Vowel h\n",
      "vowel i\n",
      "Not Vowel s\n",
      "Not Vowel h\n",
      "Total Vowels:  2\n",
      "Total Not Vowels: 5\n"
     ]
    }
   ],
   "source": [
    "s=\"Sathish\"\n",
    "v=\"AaEeIiOoUu\"\n",
    "vcount=0\n",
    "ncount=0\n",
    "for i in s:\n",
    "    if i in v:\n",
    "        print(\"vowel\",i)\n",
    "        vcount+=1\n",
    "    else:\n",
    "        print(\"Not Vowel\",i)\n",
    "        ncount+=1\n",
    "print(\"Total Vowels: \",vcount)\n",
    "print(\"Total Not Vowels:\",ncount)"
   ]
  },
  {
   "cell_type": "code",
   "execution_count": null,
   "id": "537eaf5c",
   "metadata": {},
   "outputs": [],
   "source": [
    "inp=input(\"enter something: \")\n",
    "if inp==inp[::-1]:\n",
    "    print(\"Palindrome:\",inp)\n",
    "else:\n",
    "    print(\"Not a Palindrome\",inp)"
   ]
  },
  {
   "cell_type": "code",
   "execution_count": null,
   "id": "ffafb180",
   "metadata": {},
   "outputs": [],
   "source": [
    "inp=input(\"enter something:\")\n",
    "for i in range(len(inp)):\n",
    "    if inp[i]!=inp[len(inp)-i-1]:\n",
    "        print(\"not palindrome\")\n",
    "        break\n",
    "    else:\n",
    "        print(\"Palindrome\")"
   ]
  },
  {
   "cell_type": "code",
   "execution_count": null,
   "id": "28cdd4dc",
   "metadata": {},
   "outputs": [],
   "source": [
    "d={\"india\":\"IN\",\n",
    "  \"china\":\"CH\",\n",
    "  \"canada\":\"CAN\",\n",
    "  \"united states\":\"US\",\n",
    "   \"germany\":\"GER\"\n",
    "  }"
   ]
  },
  {
   "cell_type": "code",
   "execution_count": null,
   "id": "784f0804",
   "metadata": {},
   "outputs": [],
   "source": [
    "l_greater=[]\n",
    "l_small=[]\n",
    "for i in d:\n",
    "    if len(i)<=5:\n",
    "        l_small.append(i)\n",
    "    else:\n",
    "        l_greater.append(i)\n",
    "        \n",
    "print(l_small)\n",
    "print(l_greater)"
   ]
  },
  {
   "cell_type": "code",
   "execution_count": null,
   "id": "89f029d5",
   "metadata": {},
   "outputs": [],
   "source": [
    "d1={\"ineuron\":{\"a\":15,\"b\":25,\"c\":45},\n",
    "    \"courses\":{\"d\":25,\"e\":29}}\n"
   ]
  },
  {
   "cell_type": "code",
   "execution_count": null,
   "id": "bb53379a",
   "metadata": {},
   "outputs": [],
   "source": [
    "for i in d1.values():\n",
    "    d1.keys()\n",
    "    print(max(i.values()))\n",
    "    "
   ]
  },
  {
   "cell_type": "code",
   "execution_count": null,
   "id": "efd079b7",
   "metadata": {
    "scrolled": true
   },
   "outputs": [],
   "source": [
    "for i in d1.values():\n",
    "    maxx=0\n",
    "    for j in i.values():\n",
    "        if maxx<j:\n",
    "            maxx=j\n",
    "    print(maxx)"
   ]
  },
  {
   "cell_type": "code",
   "execution_count": null,
   "id": "5acf2158",
   "metadata": {},
   "outputs": [],
   "source": [
    "list=[]\n",
    "for i in d1.values():\n",
    "    for j in i.values():\n",
    "        list.append(j)\n",
    "    print(max(list))"
   ]
  },
  {
   "cell_type": "code",
   "execution_count": null,
   "id": "7db90363",
   "metadata": {},
   "outputs": [],
   "source": [
    "d2={\"ineuron\":{\"a\":15,\"b\":25,\"c\":45},\n",
    "    \"courses\":{\"d\":25,\"e\":29},\n",
    "   \"g\":34,\n",
    "   \"h\":[15,58,68],\n",
    "   \"i\":(14,54,65),\n",
    "   \"k\":\"sath\"\n",
    "   }"
   ]
  },
  {
   "cell_type": "code",
   "execution_count": null,
   "id": "d8b61319",
   "metadata": {},
   "outputs": [],
   "source": [
    "lit=[]\n",
    "for k,i in d2.items():\n",
    "    if type(i)==dict:\n",
    "        lit.extend(list(i.values()))\n",
    "    elif type(i)==list:\n",
    "        lit.append(max(i))\n",
    "    elif type(i)==int:\n",
    "        lit.append(i)\n",
    "    elif type(i)==tuple:\n",
    "        lit.append(max(i))\n",
    "    else:\n",
    "        pass\n",
    "print(max(lit))"
   ]
  },
  {
   "cell_type": "markdown",
   "id": "6a737642",
   "metadata": {},
   "source": [
    "# Functions"
   ]
  },
  {
   "cell_type": "code",
   "execution_count": null,
   "id": "d7cde8a0",
   "metadata": {},
   "outputs": [],
   "source": [
    "l=[25,65,5487,\"sath\",[25,469,26,\"sathi\"]]"
   ]
  },
  {
   "cell_type": "code",
   "execution_count": null,
   "id": "3f8363df",
   "metadata": {},
   "outputs": [],
   "source": [
    "l1=[2,5,547,\"sath\",[5,69,2,\"sathi\"]]"
   ]
  },
  {
   "cell_type": "code",
   "execution_count": null,
   "id": "91f92e13",
   "metadata": {},
   "outputs": [],
   "source": [
    "def test(a):\n",
    "    n=[]\n",
    "    if type(a)==list:\n",
    "        for i in a:\n",
    "            if type(i)==int:\n",
    "                n.append(i)\n",
    "            elif type(i)==list:\n",
    "                for j in i:\n",
    "                    if type(j)==int:\n",
    "                        n.append(j)\n",
    "    return n"
   ]
  },
  {
   "cell_type": "code",
   "execution_count": null,
   "id": "a60fa821",
   "metadata": {},
   "outputs": [],
   "source": [
    "test(l)"
   ]
  },
  {
   "cell_type": "code",
   "execution_count": null,
   "id": "5a4f0c10",
   "metadata": {
    "scrolled": false
   },
   "outputs": [],
   "source": [
    "test([5,65,588,24])"
   ]
  },
  {
   "cell_type": "code",
   "execution_count": null,
   "id": "fd040ed3",
   "metadata": {},
   "outputs": [],
   "source": [
    "def traingle(rows):\n",
    "    for i in range(0,rows):\n",
    "        for j in range(0,i+1):\n",
    "            print(\"*\",end=\"\")\n",
    "        print(\"\\r\")"
   ]
  },
  {
   "cell_type": "code",
   "execution_count": null,
   "id": "a76fcd48",
   "metadata": {
    "scrolled": true
   },
   "outputs": [],
   "source": [
    "traingle(7)"
   ]
  },
  {
   "cell_type": "code",
   "execution_count": null,
   "id": "3c6b914b",
   "metadata": {},
   "outputs": [],
   "source": [
    "def ctraingle(rows):\n",
    "    \"\"\" This function will be used to create a centered traingle\"\"\"\n",
    "    m=rows\n",
    "    k=m-1\n",
    "    for i in range(0,m):\n",
    "        for j in range(0,k):\n",
    "            print(end=\" \")\n",
    "        k=k-1\n",
    "        for j in range(0,i+1):\n",
    "            print(\" * \",end=\"\")\n",
    "        print(\"\\n\")\n",
    "ctraingle(10)"
   ]
  },
  {
   "cell_type": "code",
   "execution_count": null,
   "id": "7940d4bd",
   "metadata": {},
   "outputs": [],
   "source": [
    "def csquare(rows):\n",
    "    m=rows\n",
    "    k=m-1\n",
    "    for i in range(0,m):\n",
    "        for j in range(0,k):\n",
    "            print(\"*\",end=\" \")\n",
    "        print(\"\\n\")\n",
    "csquare(5)"
   ]
  },
  {
   "cell_type": "code",
   "execution_count": null,
   "id": "b4a28047",
   "metadata": {},
   "outputs": [],
   "source": [
    "def ext(a,b):\n",
    "    \"\"\"this concatinates two variables \n",
    "    only if its list\"\"\"\n",
    "    if type(a)==list and type(b)==list:\n",
    "        a.extend(b)\n",
    "        return a\n",
    "    else:\n",
    "        print(\"Its not a list\")"
   ]
  },
  {
   "cell_type": "code",
   "execution_count": null,
   "id": "b1943b7f",
   "metadata": {},
   "outputs": [],
   "source": [
    "ext([25,56,75],[256,547,25])"
   ]
  },
  {
   "cell_type": "code",
   "execution_count": null,
   "id": "3ac7527d",
   "metadata": {},
   "outputs": [],
   "source": [
    "def strrelen(inp):\n",
    "    inp=str(input())\n",
    "    count=0\n",
    "    if inp==str:\n",
    "        for i in inp:\n",
    "            count+=1\n",
    "    print(count)"
   ]
  },
  {
   "cell_type": "code",
   "execution_count": null,
   "id": "4e9bdcf9",
   "metadata": {},
   "outputs": [],
   "source": [
    "def tes1(*names):\n",
    "    return names"
   ]
  },
  {
   "cell_type": "code",
   "execution_count": null,
   "id": "b516b2a6",
   "metadata": {},
   "outputs": [],
   "source": [
    "tes1(\"sathi\",22,\"blr\")"
   ]
  },
  {
   "cell_type": "code",
   "execution_count": null,
   "id": "bb510730",
   "metadata": {},
   "outputs": [],
   "source": [
    "def test5(a,*args,**kwargs):\n",
    "    return a,args,kwargs"
   ]
  },
  {
   "cell_type": "code",
   "execution_count": null,
   "id": "a69a2976",
   "metadata": {},
   "outputs": [],
   "source": [
    "test5(15,25,\"sathi\",{\"z\":\"boy\"},g=56,s=\"dei\")"
   ]
  },
  {
   "cell_type": "code",
   "execution_count": null,
   "id": "093abe2a",
   "metadata": {},
   "outputs": [],
   "source": [
    "def mult(a,b):\n",
    "    return(a*b)"
   ]
  },
  {
   "cell_type": "code",
   "execution_count": null,
   "id": "269a2331",
   "metadata": {},
   "outputs": [],
   "source": [
    "mult(25,75)"
   ]
  },
  {
   "cell_type": "code",
   "execution_count": null,
   "id": "9c5cbd20",
   "metadata": {},
   "outputs": [],
   "source": [
    "a=lambda a,b,c:(a+b+c,a-b-c,a*b*c,a/b/c,a+b+c/3)"
   ]
  },
  {
   "cell_type": "code",
   "execution_count": null,
   "id": "87ffd919",
   "metadata": {},
   "outputs": [],
   "source": [
    "a(20,10,5)"
   ]
  },
  {
   "cell_type": "code",
   "execution_count": null,
   "id": "fc973e79",
   "metadata": {},
   "outputs": [],
   "source": [
    "v=lambda *i:i*5"
   ]
  },
  {
   "cell_type": "code",
   "execution_count": null,
   "id": "be52a6b6",
   "metadata": {},
   "outputs": [],
   "source": [
    "v(25,35)"
   ]
  },
  {
   "cell_type": "code",
   "execution_count": null,
   "id": "1eac41c0",
   "metadata": {},
   "outputs": [],
   "source": [
    "l=[1,25,36,45]\n",
    "l1=[]\n",
    "for i in l:\n",
    "    l1.append(i+2)"
   ]
  },
  {
   "cell_type": "code",
   "execution_count": null,
   "id": "fca3279b",
   "metadata": {},
   "outputs": [],
   "source": [
    "l1"
   ]
  },
  {
   "cell_type": "code",
   "execution_count": null,
   "id": "8f5c4ddc",
   "metadata": {},
   "outputs": [],
   "source": [
    "a=lambda a:[i+2 for i in a]"
   ]
  },
  {
   "cell_type": "code",
   "execution_count": null,
   "id": "e8fc4f1c",
   "metadata": {},
   "outputs": [],
   "source": [
    "a(l1)\n"
   ]
  },
  {
   "cell_type": "code",
   "execution_count": null,
   "id": "f51d8292",
   "metadata": {},
   "outputs": [],
   "source": [
    "[(i**2,i+i) for i in l if i<40]"
   ]
  },
  {
   "cell_type": "code",
   "execution_count": null,
   "id": "e8047a32",
   "metadata": {},
   "outputs": [],
   "source": [
    "{i:i**2 for i in range(10)}"
   ]
  },
  {
   "cell_type": "code",
   "execution_count": null,
   "id": "f6c62273",
   "metadata": {},
   "outputs": [],
   "source": [
    "d1={}\n",
    "for i in range(10):\n",
    "    d1[i]=i**2"
   ]
  },
  {
   "cell_type": "code",
   "execution_count": null,
   "id": "a16256c9",
   "metadata": {},
   "outputs": [],
   "source": [
    "d1"
   ]
  },
  {
   "cell_type": "code",
   "execution_count": null,
   "id": "c9d089b4",
   "metadata": {},
   "outputs": [],
   "source": [
    "tuple(i for i in range(10))"
   ]
  },
  {
   "cell_type": "code",
   "execution_count": null,
   "id": "1b9f9225",
   "metadata": {},
   "outputs": [],
   "source": [
    " s=\"sathi\""
   ]
  },
  {
   "cell_type": "code",
   "execution_count": null,
   "id": "3232213b",
   "metadata": {},
   "outputs": [],
   "source": [
    "a=iter(s)"
   ]
  },
  {
   "cell_type": "code",
   "execution_count": null,
   "id": "f0d4f35c",
   "metadata": {},
   "outputs": [],
   "source": [
    "next(a)"
   ]
  },
  {
   "cell_type": "code",
   "execution_count": null,
   "id": "8a5844a2",
   "metadata": {},
   "outputs": [],
   "source": [
    "l=[20,52,63]"
   ]
  },
  {
   "cell_type": "code",
   "execution_count": null,
   "id": "38b50a81",
   "metadata": {},
   "outputs": [],
   "source": [
    "c=iter(l)"
   ]
  },
  {
   "cell_type": "code",
   "execution_count": null,
   "id": "b8cf2569",
   "metadata": {},
   "outputs": [],
   "source": [
    "next(c)"
   ]
  },
  {
   "cell_type": "code",
   "execution_count": null,
   "id": "66c8a9b7",
   "metadata": {},
   "outputs": [],
   "source": [
    "l=['sathi',25,\"doo\",56]\n",
    "a=iter(l)\n",
    "next(a)"
   ]
  },
  {
   "cell_type": "code",
   "execution_count": null,
   "id": "524979b8",
   "metadata": {},
   "outputs": [],
   "source": [
    "next(a)"
   ]
  },
  {
   "cell_type": "code",
   "execution_count": null,
   "id": "8801ba6c",
   "metadata": {},
   "outputs": [],
   "source": [
    "for i in range(0,25,2):\n",
    "    print(i)"
   ]
  },
  {
   "cell_type": "code",
   "execution_count": null,
   "id": "aeaab339",
   "metadata": {},
   "outputs": [],
   "source": [
    "list(range(0,25,3))"
   ]
  },
  {
   "cell_type": "code",
   "execution_count": null,
   "id": "4cab2b0e",
   "metadata": {},
   "outputs": [],
   "source": [
    "def gencube(n):\n",
    "    l=[]\n",
    "    for i in range(n):\n",
    "        l.append(i**3)\n",
    "    return l"
   ]
  },
  {
   "cell_type": "code",
   "execution_count": null,
   "id": "eac48bd6",
   "metadata": {},
   "outputs": [],
   "source": [
    "gencube(10)"
   ]
  },
  {
   "cell_type": "code",
   "execution_count": null,
   "id": "bc72d2ac",
   "metadata": {},
   "outputs": [],
   "source": [
    "type(l)"
   ]
  },
  {
   "cell_type": "code",
   "execution_count": null,
   "id": "09f073a4",
   "metadata": {},
   "outputs": [],
   "source": [
    "for i in range(0,10):\n",
    "    print(i)"
   ]
  },
  {
   "cell_type": "code",
   "execution_count": null,
   "id": "02ee1820",
   "metadata": {},
   "outputs": [],
   "source": [
    "def gencube(n):\n",
    "    for i in range(n):\n",
    "        yield i**3"
   ]
  },
  {
   "cell_type": "code",
   "execution_count": null,
   "id": "9f739278",
   "metadata": {},
   "outputs": [],
   "source": [
    "gencube(10)"
   ]
  },
  {
   "cell_type": "code",
   "execution_count": null,
   "id": "6525e9e0",
   "metadata": {},
   "outputs": [],
   "source": [
    "for i in gencube(10):\n",
    "    print(i)\n"
   ]
  },
  {
   "cell_type": "code",
   "execution_count": null,
   "id": "e4b534de",
   "metadata": {},
   "outputs": [],
   "source": [
    "type(i)"
   ]
  },
  {
   "cell_type": "code",
   "execution_count": null,
   "id": "626efadf",
   "metadata": {},
   "outputs": [],
   "source": [
    "def fibb(n):\n",
    "    a=10\n",
    "    b=1 \n",
    "    for i in range(n):\n",
    "        yield i,a\n",
    "        a,b=b,a+b"
   ]
  },
  {
   "cell_type": "code",
   "execution_count": null,
   "id": "d689bf64",
   "metadata": {},
   "outputs": [],
   "source": [
    "for i in fibb(10):\n",
    "    print(i)"
   ]
  },
  {
   "cell_type": "code",
   "execution_count": null,
   "id": "9d6e1620",
   "metadata": {},
   "outputs": [],
   "source": [
    "def fib1(n):\n",
    "    a=1\n",
    "    b=2\n",
    "    out=[]\n",
    "    for i in range(n):\n",
    "        out.append(a)\n",
    "        a,b=b,a+b\n",
    "    return out"
   ]
  },
  {
   "cell_type": "code",
   "execution_count": null,
   "id": "24323a00",
   "metadata": {},
   "outputs": [],
   "source": [
    "fib1(10)"
   ]
  },
  {
   "cell_type": "code",
   "execution_count": null,
   "id": "68ec5ee0",
   "metadata": {},
   "outputs": [],
   "source": [
    "%ls"
   ]
  },
  {
   "cell_type": "code",
   "execution_count": null,
   "id": "d1a32a9f",
   "metadata": {},
   "outputs": [],
   "source": [
    "pwd()"
   ]
  },
  {
   "cell_type": "code",
   "execution_count": null,
   "id": "d56b501b",
   "metadata": {},
   "outputs": [],
   "source": [
    "a=open('createfile','w')"
   ]
  },
  {
   "cell_type": "code",
   "execution_count": null,
   "id": "7f920154",
   "metadata": {},
   "outputs": [],
   "source": [
    "a.write(\"this is my first test whether its working or not\")"
   ]
  },
  {
   "cell_type": "code",
   "execution_count": null,
   "id": "18054271",
   "metadata": {},
   "outputs": [],
   "source": [
    "a.close()"
   ]
  },
  {
   "cell_type": "code",
   "execution_count": null,
   "id": "1eaa10a6",
   "metadata": {},
   "outputs": [],
   "source": [
    "%%writefile file2.txt\n",
    "this is the another way of weiting into the file"
   ]
  },
  {
   "cell_type": "code",
   "execution_count": null,
   "id": "2a33dc2f",
   "metadata": {},
   "outputs": [],
   "source": [
    "b=open('createfile')\n",
    "b.read()"
   ]
  },
  {
   "cell_type": "code",
   "execution_count": null,
   "id": "f3557e9f",
   "metadata": {},
   "outputs": [],
   "source": [
    "b.seek(0)"
   ]
  },
  {
   "cell_type": "code",
   "execution_count": null,
   "id": "54279920",
   "metadata": {},
   "outputs": [],
   "source": [
    "b=open('createfile','r+')\n",
    "b.readline()"
   ]
  },
  {
   "cell_type": "code",
   "execution_count": null,
   "id": "48df4d1b",
   "metadata": {},
   "outputs": [],
   "source": [
    "b.readline()"
   ]
  },
  {
   "cell_type": "code",
   "execution_count": null,
   "id": "f1dfede3",
   "metadata": {},
   "outputs": [],
   "source": [
    "b.readline()"
   ]
  },
  {
   "cell_type": "code",
   "execution_count": null,
   "id": "455a1e43",
   "metadata": {},
   "outputs": [],
   "source": [
    "b.readline()"
   ]
  },
  {
   "cell_type": "code",
   "execution_count": null,
   "id": "c04fc240",
   "metadata": {},
   "outputs": [],
   "source": [
    "b.readline()"
   ]
  },
  {
   "cell_type": "code",
   "execution_count": null,
   "id": "12dba9cb",
   "metadata": {},
   "outputs": [],
   "source": [
    "b.close()"
   ]
  },
  {
   "cell_type": "code",
   "execution_count": null,
   "id": "eba9b570",
   "metadata": {},
   "outputs": [],
   "source": [
    "c=open('createfile','r+')\n",
    "for i in c:\n",
    "    print(i, end=\" \")"
   ]
  },
  {
   "cell_type": "code",
   "execution_count": null,
   "id": "544ae627",
   "metadata": {},
   "outputs": [],
   "source": [
    "c.write(\"this is writing in r+ mode\")"
   ]
  },
  {
   "cell_type": "code",
   "execution_count": null,
   "id": "c995684a",
   "metadata": {},
   "outputs": [],
   "source": [
    "c=open('createfile','r+')\n",
    "for i in c:\n",
    "    print(i, end=\" \")"
   ]
  },
  {
   "cell_type": "code",
   "execution_count": null,
   "id": "4f136f22",
   "metadata": {},
   "outputs": [],
   "source": [
    "c.close()"
   ]
  },
  {
   "cell_type": "code",
   "execution_count": null,
   "id": "aebb3f98",
   "metadata": {},
   "outputs": [],
   "source": [
    "c=open('createfile.txt','r+')"
   ]
  },
  {
   "cell_type": "code",
   "execution_count": null,
   "id": "0b6645b9",
   "metadata": {},
   "outputs": [],
   "source": [
    "c.seek(0)"
   ]
  },
  {
   "cell_type": "code",
   "execution_count": null,
   "id": "95be32c1",
   "metadata": {},
   "outputs": [],
   "source": [
    "l=c.readlines()"
   ]
  },
  {
   "cell_type": "code",
   "execution_count": null,
   "id": "3e80a2be",
   "metadata": {},
   "outputs": [],
   "source": [
    "l"
   ]
  },
  {
   "cell_type": "code",
   "execution_count": null,
   "id": "2c391386",
   "metadata": {},
   "outputs": [],
   "source": [
    "l[0]"
   ]
  },
  {
   "cell_type": "code",
   "execution_count": null,
   "id": "c5d0e178",
   "metadata": {},
   "outputs": [],
   "source": [
    "l[0].split()"
   ]
  },
  {
   "cell_type": "code",
   "execution_count": null,
   "id": "3f1954fa",
   "metadata": {},
   "outputs": [],
   "source": [
    "l1=[]\n",
    "for i in l[0].split():\n",
    "    l1.append(i[0])"
   ]
  },
  {
   "cell_type": "code",
   "execution_count": null,
   "id": "4a0892a8",
   "metadata": {},
   "outputs": [],
   "source": [
    "l1"
   ]
  },
  {
   "cell_type": "code",
   "execution_count": null,
   "id": "a01f8113",
   "metadata": {},
   "outputs": [],
   "source": [
    "c.name"
   ]
  },
  {
   "cell_type": "code",
   "execution_count": null,
   "id": "ade9ddfc",
   "metadata": {},
   "outputs": [],
   "source": [
    "d=open('file2.txt','w')\n",
    "d.write(\"Just for checking delete\")"
   ]
  },
  {
   "cell_type": "code",
   "execution_count": null,
   "id": "9941ebd2",
   "metadata": {},
   "outputs": [],
   "source": [
    "d.close()"
   ]
  },
  {
   "cell_type": "code",
   "execution_count": null,
   "id": "18ea3998",
   "metadata": {},
   "outputs": [],
   "source": [
    "import os"
   ]
  },
  {
   "cell_type": "code",
   "execution_count": null,
   "id": "6ab689a5",
   "metadata": {},
   "outputs": [],
   "source": [
    "os.remove(\"file2.txt\")"
   ]
  },
  {
   "cell_type": "code",
   "execution_count": null,
   "id": "be8bbabd",
   "metadata": {},
   "outputs": [],
   "source": [
    "os.listdir('C:\\\\Users\\\\ADMIN\\\\ineuron python\\\\Practice file')"
   ]
  },
  {
   "cell_type": "code",
   "execution_count": null,
   "id": "96d68938",
   "metadata": {},
   "outputs": [],
   "source": [
    "pwd"
   ]
  },
  {
   "cell_type": "raw",
   "id": "690f729c",
   "metadata": {},
   "source": [
    "# Exception Handling"
   ]
  },
  {
   "cell_type": "code",
   "execution_count": null,
   "id": "1a4035e4",
   "metadata": {},
   "outputs": [],
   "source": [
    "try:\n",
    "    f=open('test.txt''r')\n",
    "    f.write(\"sathi\")\n",
    "except:\n",
    "    print(\"its in read mode , we cannot wite whilw its is in read mode\")"
   ]
  },
  {
   "cell_type": "code",
   "execution_count": null,
   "id": "18485e89",
   "metadata": {},
   "outputs": [],
   "source": [
    "l=[4,5,6,1,7,9,7]\n",
    "try:\n",
    "    for i in range(l):\n",
    "        print(l,i)\n",
    "except Exception as e:\n",
    "    print(\"Something is missing\",e)\n",
    "    "
   ]
  },
  {
   "cell_type": "code",
   "execution_count": null,
   "id": "a1005481",
   "metadata": {},
   "outputs": [],
   "source": [
    "try:\n",
    "    d={\"key1\":\"sathi\",\"key2\":\"20/10/2002\"}\n",
    "    d[\"key3\"]=int(input())\n",
    "    print(list(d.values()))\n",
    "except Exception as Err:\n",
    "    print(\"Something is wrong in your code\",Err)"
   ]
  },
  {
   "cell_type": "code",
   "execution_count": null,
   "id": "f8cbab83",
   "metadata": {},
   "outputs": [],
   "source": [
    "try:\n",
    "    d={\"key1\":\"sathi\",\"key2\":\"20/10/2002\"}\n",
    "    d[\"key3\"]=int(input())\n",
    "    list(d.values())\n",
    "    tuple(d.key())\n",
    "except ValueError as Err:\n",
    "    print(\"its a (sub class) child class\",Err)\n",
    "except Exception as Ex:\n",
    "    print(\"This is exception and its a (super class) Parent class\")"
   ]
  },
  {
   "cell_type": "code",
   "execution_count": null,
   "id": "ac9a3a4b",
   "metadata": {},
   "outputs": [],
   "source": [
    "try:\n",
    "    d={\"key1\":\"sathi\",\"key2\":\"20/10/2002\"}\n",
    "    d[\"key3\"]=int(input())\n",
    "    list(d.values())\n",
    "    tuple(d.keys())\n",
    "\n",
    "except Exception as Ex:\n",
    "    print(\"This is exception and its a (super class) Parent class\",Ex)\n",
    "else:\n",
    "    print(\"if try block has no error and sucessfully executed it will come to else block\")"
   ]
  },
  {
   "cell_type": "code",
   "execution_count": null,
   "id": "f75054d4",
   "metadata": {},
   "outputs": [],
   "source": [
    "try:\n",
    "    open(\"testexem\",\"r\")\n",
    "except Exception as e:\n",
    "    print(\"just to test,\",e)\n",
    "finally:\n",
    "    print(\"Finally will execute all the time if there is error or not\")"
   ]
  },
  {
   "cell_type": "code",
   "execution_count": 41,
   "id": "1a2e9812",
   "metadata": {},
   "outputs": [],
   "source": [
    "def askint():\n",
    "    while(True):\n",
    "        \"\"\"Function asks user a int input else it will be keep on asking for it\"\"\"\n",
    "        try:\n",
    "            a=int(input(\"Enter a Number:\"))\n",
    "            if(type(a)==int):\n",
    "                return \"You have entered a int\",a\n",
    "                break\n",
    "            else:\n",
    "                print(\"wrong attempt\")\n",
    "        except Exception as e:\n",
    "            print(\"Unusual attempt\",e)"
   ]
  },
  {
   "cell_type": "code",
   "execution_count": 43,
   "id": "7f39b872",
   "metadata": {
    "scrolled": true
   },
   "outputs": [
    {
     "name": "stdout",
     "output_type": "stream",
     "text": [
      "Enter a Number:sa\n",
      "Unusual attempt invalid literal for int() with base 10: 'sa'\n"
     ]
    },
    {
     "ename": "KeyboardInterrupt",
     "evalue": "Interrupted by user",
     "output_type": "error",
     "traceback": [
      "\u001b[1;31m---------------------------------------------------------------------------\u001b[0m",
      "\u001b[1;31mKeyboardInterrupt\u001b[0m                         Traceback (most recent call last)",
      "Cell \u001b[1;32mIn[43], line 1\u001b[0m\n\u001b[1;32m----> 1\u001b[0m askint()\n",
      "Cell \u001b[1;32mIn[41], line 5\u001b[0m, in \u001b[0;36maskint\u001b[1;34m()\u001b[0m\n\u001b[0;32m      3\u001b[0m \u001b[38;5;250m\u001b[39m\u001b[38;5;124;03m\"\"\"Function asks user a int input else it will be keep on asking for it\"\"\"\u001b[39;00m\n\u001b[0;32m      4\u001b[0m \u001b[38;5;28;01mtry\u001b[39;00m:\n\u001b[1;32m----> 5\u001b[0m     a\u001b[38;5;241m=\u001b[39m\u001b[38;5;28mint\u001b[39m(\u001b[38;5;28minput\u001b[39m(\u001b[38;5;124m\"\u001b[39m\u001b[38;5;124mEnter a Number:\u001b[39m\u001b[38;5;124m\"\u001b[39m))\n\u001b[0;32m      6\u001b[0m     \u001b[38;5;28;01mif\u001b[39;00m(\u001b[38;5;28mtype\u001b[39m(a)\u001b[38;5;241m==\u001b[39m\u001b[38;5;28mint\u001b[39m):\n\u001b[0;32m      7\u001b[0m         \u001b[38;5;28;01mreturn\u001b[39;00m \u001b[38;5;124m\"\u001b[39m\u001b[38;5;124mYou have entered a int\u001b[39m\u001b[38;5;124m\"\u001b[39m,a\n",
      "File \u001b[1;32m~\\anaconda3\\Lib\\site-packages\\ipykernel\\kernelbase.py:1202\u001b[0m, in \u001b[0;36mKernel.raw_input\u001b[1;34m(self, prompt)\u001b[0m\n\u001b[0;32m   1200\u001b[0m     msg \u001b[38;5;241m=\u001b[39m \u001b[38;5;124m\"\u001b[39m\u001b[38;5;124mraw_input was called, but this frontend does not support input requests.\u001b[39m\u001b[38;5;124m\"\u001b[39m\n\u001b[0;32m   1201\u001b[0m     \u001b[38;5;28;01mraise\u001b[39;00m StdinNotImplementedError(msg)\n\u001b[1;32m-> 1202\u001b[0m \u001b[38;5;28;01mreturn\u001b[39;00m \u001b[38;5;28mself\u001b[39m\u001b[38;5;241m.\u001b[39m_input_request(\n\u001b[0;32m   1203\u001b[0m     \u001b[38;5;28mstr\u001b[39m(prompt),\n\u001b[0;32m   1204\u001b[0m     \u001b[38;5;28mself\u001b[39m\u001b[38;5;241m.\u001b[39m_parent_ident[\u001b[38;5;124m\"\u001b[39m\u001b[38;5;124mshell\u001b[39m\u001b[38;5;124m\"\u001b[39m],\n\u001b[0;32m   1205\u001b[0m     \u001b[38;5;28mself\u001b[39m\u001b[38;5;241m.\u001b[39mget_parent(\u001b[38;5;124m\"\u001b[39m\u001b[38;5;124mshell\u001b[39m\u001b[38;5;124m\"\u001b[39m),\n\u001b[0;32m   1206\u001b[0m     password\u001b[38;5;241m=\u001b[39m\u001b[38;5;28;01mFalse\u001b[39;00m,\n\u001b[0;32m   1207\u001b[0m )\n",
      "File \u001b[1;32m~\\anaconda3\\Lib\\site-packages\\ipykernel\\kernelbase.py:1245\u001b[0m, in \u001b[0;36mKernel._input_request\u001b[1;34m(self, prompt, ident, parent, password)\u001b[0m\n\u001b[0;32m   1242\u001b[0m \u001b[38;5;28;01mexcept\u001b[39;00m \u001b[38;5;167;01mKeyboardInterrupt\u001b[39;00m:\n\u001b[0;32m   1243\u001b[0m     \u001b[38;5;66;03m# re-raise KeyboardInterrupt, to truncate traceback\u001b[39;00m\n\u001b[0;32m   1244\u001b[0m     msg \u001b[38;5;241m=\u001b[39m \u001b[38;5;124m\"\u001b[39m\u001b[38;5;124mInterrupted by user\u001b[39m\u001b[38;5;124m\"\u001b[39m\n\u001b[1;32m-> 1245\u001b[0m     \u001b[38;5;28;01mraise\u001b[39;00m \u001b[38;5;167;01mKeyboardInterrupt\u001b[39;00m(msg) \u001b[38;5;28;01mfrom\u001b[39;00m \u001b[38;5;28;01mNone\u001b[39;00m\n\u001b[0;32m   1246\u001b[0m \u001b[38;5;28;01mexcept\u001b[39;00m \u001b[38;5;167;01mException\u001b[39;00m:\n\u001b[0;32m   1247\u001b[0m     \u001b[38;5;28mself\u001b[39m\u001b[38;5;241m.\u001b[39mlog\u001b[38;5;241m.\u001b[39mwarning(\u001b[38;5;124m\"\u001b[39m\u001b[38;5;124mInvalid Message:\u001b[39m\u001b[38;5;124m\"\u001b[39m, exc_info\u001b[38;5;241m=\u001b[39m\u001b[38;5;28;01mTrue\u001b[39;00m)\n",
      "\u001b[1;31mKeyboardInterrupt\u001b[0m: Interrupted by user"
     ]
    }
   ],
   "source": [
    "askint()"
   ]
  },
  {
   "cell_type": "code",
   "execution_count": null,
   "id": "fc2b37a9",
   "metadata": {},
   "outputs": [],
   "source": [
    "def askint1():\n",
    "    while(True):\n",
    "        \"\"\"Function asks user a int input else it will be keep on asking for it\"\"\"\n",
    "        try:\n",
    "            a=int(input(\"Enter a Number:\"))\n",
    "            return \"You have entered a correct input\",a\n",
    "            break\n",
    "        except Exception as e:\n",
    "            print(\"Invalid attempt, Enter a Integer value\",e)"
   ]
  },
  {
   "cell_type": "code",
   "execution_count": null,
   "id": "9d4db7db",
   "metadata": {},
   "outputs": [],
   "source": [
    "askint1()"
   ]
  },
  {
   "cell_type": "code",
   "execution_count": null,
   "id": "cf8c3e41",
   "metadata": {},
   "outputs": [],
   "source": [
    "def test(a):\n",
    "    if a<0:\n",
    "        raise Exception(\"you have aentrered a negative number\",a)\n",
    "    return a\n",
    "test(-1)"
   ]
  },
  {
   "cell_type": "markdown",
   "id": "cc4ada9b",
   "metadata": {},
   "source": [
    "#Logging"
   ]
  },
  {
   "cell_type": "code",
   "execution_count": null,
   "id": "863fa5b3",
   "metadata": {},
   "outputs": [],
   "source": [
    "import logging"
   ]
  },
  {
   "cell_type": "code",
   "execution_count": null,
   "id": "127b2b83",
   "metadata": {},
   "outputs": [],
   "source": [
    "logging.basicConfig(filename='test.log')"
   ]
  },
  {
   "cell_type": "code",
   "execution_count": null,
   "id": "a8ce7ae8",
   "metadata": {},
   "outputs": [],
   "source": [
    "pwd()"
   ]
  },
  {
   "cell_type": "code",
   "execution_count": 1,
   "id": "a535f906",
   "metadata": {},
   "outputs": [],
   "source": [
    "import logging"
   ]
  },
  {
   "cell_type": "markdown",
   "id": "d9eb86f0",
   "metadata": {},
   "source": [
    "#level of logging\n",
    "ERROR\n",
    "WARNING\n",
    "INFO\n",
    "DEBUG"
   ]
  },
  {
   "cell_type": "code",
   "execution_count": 2,
   "id": "49dea32f",
   "metadata": {},
   "outputs": [],
   "source": [
    "logging.basicConfig(filename=\"test1.log\",level=logging.DEBUG ,format='%(asctime)s %(levelname)s %(message)s')"
   ]
  },
  {
   "cell_type": "code",
   "execution_count": 3,
   "id": "6791420f",
   "metadata": {},
   "outputs": [],
   "source": [
    "logging.info(\"this is my info log\")\n",
    "logging.debug(\"This is the debug log\")\n",
    "logging.warning(\"This is the warning log\")"
   ]
  },
  {
   "cell_type": "code",
   "execution_count": 1,
   "id": "e159ba1f",
   "metadata": {},
   "outputs": [],
   "source": [
    "import logging\n",
    "logging.basicConfig(filename=\"test2.log\",level=logging.ERROR ,format='%(asctime)s %(levelname)s %(message)s')"
   ]
  },
  {
   "cell_type": "code",
   "execution_count": 4,
   "id": "dec2c27e",
   "metadata": {},
   "outputs": [],
   "source": [
    "logging.info(\"this is my info log\")\n",
    "logging.debug(\"This is the debug log\")\n",
    "logging.warning(\"This is the warning log\")\n",
    "logging.error(\"This is the error\")"
   ]
  },
  {
   "cell_type": "code",
   "execution_count": 2,
   "id": "da667191",
   "metadata": {},
   "outputs": [],
   "source": [
    "import logging\n",
    "logging.basicConfig(filename=\"test3.log\",level=logging.DEBUG ,format='%(asctime)s %(levelname)s %(message)s')"
   ]
  },
  {
   "cell_type": "code",
   "execution_count": 3,
   "id": "d41519fc",
   "metadata": {},
   "outputs": [],
   "source": [
    "def divbyzero(a,b):\n",
    "    logging.info(\"this is my start of code and i am trying to enter %s and %s\",a,b)\n",
    "    try:\n",
    "        div=a/b\n",
    "        logging.info(\"executed sucessfully\")\n",
    "    except Exception as e:\n",
    "        logging.error(\"Error has happened\")\n",
    "        logging.exception(\"Exception occured\"+str(e))      "
   ]
  },
  {
   "cell_type": "code",
   "execution_count": 16,
   "id": "b8df6f1d",
   "metadata": {},
   "outputs": [],
   "source": [
    "divbyzero(20,5)"
   ]
  },
  {
   "cell_type": "code",
   "execution_count": 17,
   "id": "5e152f48",
   "metadata": {},
   "outputs": [],
   "source": [
    "divbyzero(20,0)"
   ]
  },
  {
   "cell_type": "code",
   "execution_count": 4,
   "id": "bdb6ad65",
   "metadata": {},
   "outputs": [],
   "source": [
    "import logging\n",
    "logging.basicConfig(filename=\"test4.log\",level=logging.INFO ,format='%(asctime)s %(levelname)s %(message)s')"
   ]
  },
  {
   "cell_type": "code",
   "execution_count": 16,
   "id": "bbe6e88b",
   "metadata": {},
   "outputs": [],
   "source": [
    "def square1(d):\n",
    "    logging.info(\"this is my start of code and i am trying to enter %s and %s\",d)\n",
    "    try:\n",
    "        l_greater=[]\n",
    "        l_small=[]\n",
    "        a=iter(d)\n",
    "        for i in a:\n",
    "            if len(i)<=5:\n",
    "                l_small.append(i)\n",
    "            else:\n",
    "                l_greater.append(i)      \n",
    "            return l_small\n",
    "            return l_greater\n",
    "            logging.info(\"executed sucessfully\")\n",
    "    except Exception as e:\n",
    "        logging.error(\"Error has happened\")\n",
    "        logging.warning(\"you are trying a worng thing\")\n",
    "        logging.exception(\"Exception occured\"+str(e))      "
   ]
  },
  {
   "cell_type": "markdown",
   "id": "69a45a75",
   "metadata": {},
   "source": [
    "#MODULE"
   ]
  },
  {
   "cell_type": "code",
   "execution_count": 2,
   "id": "c8b15b08",
   "metadata": {},
   "outputs": [
    {
     "name": "stdout",
     "output_type": "stream",
     "text": [
      " Volume in drive C is Windows-SSD\n",
      " Volume Serial Number is B4A9-E37C\n",
      "\n",
      " Directory of C:\\Users\\ADMIN\\ineuron python\\Practice file\n",
      "\n",
      "04-01-2024  12:05    <DIR>          .\n",
      "04-01-2024  10:29    <DIR>          ..\n",
      "03-01-2024  12:13    <DIR>          .ipynb_checkpoints\n",
      "03-01-2024  15:23    <DIR>          __pycache__\n",
      "01-01-2024  15:54             1,928 asssign.ipynb\n",
      "01-01-2024  13:22               169 createfile.txt\n",
      "01-01-2024  13:54                24 file2.txt\n",
      "04-01-2024  12:05            50,259 Practice file.ipynb\n",
      "03-01-2024  10:58                 0 test.log\n",
      "03-01-2024  11:35               370 test1.log\n",
      "03-01-2024  11:33                49 test2.log\n",
      "03-01-2024  11:56               679 test3.log\n",
      "03-01-2024  14:17             3,082 test4.log\n",
      "               9 File(s)         56,560 bytes\n",
      "               4 Dir(s)  124,917,993,472 bytes free\n"
     ]
    }
   ],
   "source": [
    "%ls"
   ]
  },
  {
   "cell_type": "code",
   "execution_count": 1,
   "id": "08f46232",
   "metadata": {},
   "outputs": [
    {
     "data": {
      "text/plain": [
       "<_io.TextIOWrapper name='module1.py' mode='w' encoding='cp1252'>"
      ]
     },
     "execution_count": 1,
     "metadata": {},
     "output_type": "execute_result"
    }
   ],
   "source": [
    "open(\"module1.py\",\"w\")"
   ]
  },
  {
   "cell_type": "code",
   "execution_count": 5,
   "id": "c8f0745a",
   "metadata": {},
   "outputs": [],
   "source": [
    "import my_mod as m"
   ]
  },
  {
   "cell_type": "code",
   "execution_count": 7,
   "id": "f0af9755",
   "metadata": {},
   "outputs": [
    {
     "data": {
      "text/plain": [
       "25"
      ]
     },
     "execution_count": 7,
     "metadata": {},
     "output_type": "execute_result"
    }
   ],
   "source": [
    "m.add(20,5)"
   ]
  },
  {
   "cell_type": "code",
   "execution_count": 9,
   "id": "f3970429",
   "metadata": {},
   "outputs": [
    {
     "data": {
      "text/plain": [
       "8.75"
      ]
     },
     "execution_count": 9,
     "metadata": {},
     "output_type": "execute_result"
    }
   ],
   "source": [
    "m.div(70,8)"
   ]
  },
  {
   "cell_type": "raw",
   "id": "77e5e6c7",
   "metadata": {},
   "source": [
    "#Packages= Collection of Modules like folder,Directory\n",
    "#modules= python file which has Collections of functions in it."
   ]
  },
  {
   "cell_type": "raw",
   "id": "472ef5b2",
   "metadata": {},
   "source": [
    "#OOPs= Object Oriented Programming\n",
    "class= blueprint or entity -just a commmon word, eg:person,car,animal\n",
    "object= it has behaviour and can identify the exact thing,eg:name,fortuner,lion\n",
    "constructor= kind of entity which helps class to take inputs at time of creation of entity.\n",
    "init_self=pointer(while creating class it should have pointer at the first)"
   ]
  },
  {
   "cell_type": "code",
   "execution_count": 17,
   "id": "193bbafe",
   "metadata": {},
   "outputs": [
    {
     "name": "stdout",
     "output_type": "stream",
     "text": [
      "[5, 4, 3, 2, 1]\n"
     ]
    }
   ],
   "source": [
    "l=[1,2,3,4,5]\n",
    "l.reverse()\n",
    "print(l)"
   ]
  },
  {
   "cell_type": "code",
   "execution_count": 4,
   "id": "5221f0a1",
   "metadata": {},
   "outputs": [],
   "source": [
    "class bike:\n",
    "    def __init__(self,makername,bikecc,biketype):\n",
    "        self.makername=makername\n",
    "        self.bikecc=bikecc\n",
    "        self.biketype=biketype\n",
    "    def detail(self):\n",
    "        print(\"The company Produces the bike is\",self.makername,\"and the power is \",self.bikecc,\"cc\",\"you know the type of bike is \",self.biketype)"
   ]
  },
  {
   "cell_type": "code",
   "execution_count": 5,
   "id": "6850e89b",
   "metadata": {},
   "outputs": [],
   "source": [
    "RC200=bike(\"KTM\",200,\"Sports\")\n",
    "RS200=bike(\"Bajaj\",200,\"Sports\")\n",
    "classic350=bike(\"Royal Enfield\",350,\"classic\")\n",
    "Himalayan=bike(\"Royal Enfield\",350,\"Off road\")\n",
    "R15=bike(\"Yamaha\",155,\"Sports\")"
   ]
  },
  {
   "cell_type": "code",
   "execution_count": 6,
   "id": "069b4482",
   "metadata": {},
   "outputs": [
    {
     "name": "stdout",
     "output_type": "stream",
     "text": [
      "The company Produces the bike is Bajaj and the power is  200 cc you know the type of bike is  Sports\n"
     ]
    }
   ],
   "source": [
    "RS200.detail()"
   ]
  },
  {
   "cell_type": "code",
   "execution_count": 25,
   "id": "2c84d8ca",
   "metadata": {},
   "outputs": [
    {
     "data": {
      "text/plain": [
       "155"
      ]
     },
     "execution_count": 25,
     "metadata": {},
     "output_type": "execute_result"
    }
   ],
   "source": [
    "R15.bikecc"
   ]
  },
  {
   "cell_type": "code",
   "execution_count": 27,
   "id": "154bc319",
   "metadata": {},
   "outputs": [
    {
     "data": {
      "text/plain": [
       "'Off road'"
      ]
     },
     "execution_count": 27,
     "metadata": {},
     "output_type": "execute_result"
    }
   ],
   "source": [
    "Himalayan.biketype"
   ]
  },
  {
   "cell_type": "code",
   "execution_count": 41,
   "id": "e9d64c8f",
   "metadata": {},
   "outputs": [
    {
     "data": {
      "text/plain": [
       "'KTM'"
      ]
     },
     "execution_count": 41,
     "metadata": {},
     "output_type": "execute_result"
    }
   ],
   "source": [
    "RC200.makername"
   ]
  },
  {
   "cell_type": "code",
   "execution_count": 27,
   "id": "a3b2131e",
   "metadata": {},
   "outputs": [],
   "source": [
    "class car:\n",
    "    def test(dei,b,c):\n",
    "        print(\"just Testing\",b,c)"
   ]
  },
  {
   "cell_type": "code",
   "execution_count": 28,
   "id": "2085f806",
   "metadata": {},
   "outputs": [],
   "source": [
    "a=car()"
   ]
  },
  {
   "cell_type": "code",
   "execution_count": 29,
   "id": "001b7cd1",
   "metadata": {},
   "outputs": [
    {
     "name": "stdout",
     "output_type": "stream",
     "text": [
      "just Testing 25 sathi\n"
     ]
    }
   ],
   "source": [
    "a.test(25,\"sathi\")"
   ]
  },
  {
   "cell_type": "code",
   "execution_count": 62,
   "id": "bad7d0b8",
   "metadata": {},
   "outputs": [],
   "source": [
    "class dic_mod:\n",
    "    def __init__(self,dic):\n",
    "        self.dic=dic\n",
    "        \n",
    "    def check_keys(self):\n",
    "        if type(self.dic)==dict:\n",
    "            return list(self.dic.keys())\n",
    "        \n",
    "    def check_values(self):\n",
    "        if type(self.dic)==dict:\n",
    "            return list(self.dic.values())\n",
    "        \n",
    "    def exep(self):\n",
    "        if(type(self.dic)!=dict):\n",
    "            raise Exception(self.dic,\"Not a DIctionary\")\n",
    "            \n",
    "    def inp(self):\n",
    "        self.dic=eval(input())\n",
    "        print(self.dic,type(self.dic))\n",
    "        print(self.check_keys())\n",
    "        print(self.check_values())\n",
    "        \n",
    "    def inser(self,k,v):\n",
    "        self.dic[k]=v\n",
    "        print(\"values inserted\")"
   ]
  },
  {
   "cell_type": "code",
   "execution_count": 25,
   "id": "c7f487b3",
   "metadata": {},
   "outputs": [],
   "source": [
    "a=dic_mod({\"a\":\"you, me\",\"b\":\"you, someone\"})"
   ]
  },
  {
   "cell_type": "code",
   "execution_count": 17,
   "id": "d89c444b",
   "metadata": {},
   "outputs": [
    {
     "data": {
      "text/plain": [
       "['a', 'b']"
      ]
     },
     "execution_count": 17,
     "metadata": {},
     "output_type": "execute_result"
    }
   ],
   "source": [
    "a.check_keys()"
   ]
  },
  {
   "cell_type": "code",
   "execution_count": 16,
   "id": "61364c1f",
   "metadata": {},
   "outputs": [
    {
     "data": {
      "text/plain": [
       "dict_values(['you, me', 'you, someone'])"
      ]
     },
     "execution_count": 16,
     "metadata": {},
     "output_type": "execute_result"
    }
   ],
   "source": [
    "a.check_values()"
   ]
  },
  {
   "cell_type": "code",
   "execution_count": 20,
   "id": "4683f160",
   "metadata": {},
   "outputs": [],
   "source": [
    "b=dic_mod([10,20])"
   ]
  },
  {
   "cell_type": "code",
   "execution_count": 23,
   "id": "62892c9f",
   "metadata": {},
   "outputs": [
    {
     "ename": "Exception",
     "evalue": "([10, 20], 'Not a DIctionary')",
     "output_type": "error",
     "traceback": [
      "\u001b[1;31m---------------------------------------------------------------------------\u001b[0m",
      "\u001b[1;31mException\u001b[0m                                 Traceback (most recent call last)",
      "Cell \u001b[1;32mIn[23], line 1\u001b[0m\n\u001b[1;32m----> 1\u001b[0m b\u001b[38;5;241m.\u001b[39mexep()\n",
      "Cell \u001b[1;32mIn[19], line 15\u001b[0m, in \u001b[0;36mdic_mod.exep\u001b[1;34m(self)\u001b[0m\n\u001b[0;32m     13\u001b[0m \u001b[38;5;28;01mdef\u001b[39;00m \u001b[38;5;21mexep\u001b[39m(\u001b[38;5;28mself\u001b[39m):\n\u001b[0;32m     14\u001b[0m     \u001b[38;5;28;01mif\u001b[39;00m(\u001b[38;5;28mtype\u001b[39m(\u001b[38;5;28mself\u001b[39m\u001b[38;5;241m.\u001b[39mdic)\u001b[38;5;241m!=\u001b[39m\u001b[38;5;28mdict\u001b[39m):\n\u001b[1;32m---> 15\u001b[0m         \u001b[38;5;28;01mraise\u001b[39;00m \u001b[38;5;167;01mException\u001b[39;00m(\u001b[38;5;28mself\u001b[39m\u001b[38;5;241m.\u001b[39mdic,\u001b[38;5;124m\"\u001b[39m\u001b[38;5;124mNot a DIctionary\u001b[39m\u001b[38;5;124m\"\u001b[39m)\n\u001b[0;32m     16\u001b[0m     \u001b[38;5;28;01mreturn\u001b[39;00m \u001b[38;5;241m1\u001b[39m\n",
      "\u001b[1;31mException\u001b[0m: ([10, 20], 'Not a DIctionary')"
     ]
    }
   ],
   "source": [
    "b.exep()"
   ]
  },
  {
   "cell_type": "code",
   "execution_count": 46,
   "id": "ac275053",
   "metadata": {
    "scrolled": true
   },
   "outputs": [
    {
     "name": "stdout",
     "output_type": "stream",
     "text": [
      "{\"sathi\":\"you are king\"}\n",
      "{'sathi': 'you are king'} <class 'dict'>\n",
      "['sathi']\n",
      "['you are king']\n"
     ]
    }
   ],
   "source": [
    "z=dic_mod({})\n",
    "z.inp()"
   ]
  },
  {
   "cell_type": "code",
   "execution_count": 59,
   "id": "3f498cdc",
   "metadata": {},
   "outputs": [
    {
     "data": {
      "text/plain": [
       "['sathi']"
      ]
     },
     "execution_count": 59,
     "metadata": {},
     "output_type": "execute_result"
    }
   ],
   "source": [
    "z.inser(\"sathi\",[0,10,30])\n",
    "z.check_keys()"
   ]
  },
  {
   "cell_type": "code",
   "execution_count": 61,
   "id": "fa4072d1",
   "metadata": {},
   "outputs": [
    {
     "data": {
      "text/plain": [
       "[[0, 10, 30]]"
      ]
     },
     "execution_count": 61,
     "metadata": {},
     "output_type": "execute_result"
    }
   ],
   "source": [
    "z.check_values()"
   ]
  },
  {
   "cell_type": "code",
   "execution_count": 7,
   "id": "770c1cdd",
   "metadata": {},
   "outputs": [],
   "source": [
    "class xyz:\n",
    "    def __init__(self, a,b,c) :\n",
    "        self.a= a \n",
    "        self.b= b \n",
    "        self.c= c \n",
    "        \n",
    "        \n",
    "    def test(self) : \n",
    "        print(\"this is a meth of xyz class \")\n",
    "    \n",
    "class xyz1:\n",
    "    \n",
    "    def __init__(self , p,q,v) :\n",
    "        self.p = p \n",
    "        self.v = v \n",
    "        self.q = q \n",
    "        \n",
    "    def test1(self) : \n",
    "        print(\"this is a meth form class xyz1\")\n",
    "        \n",
    "class child(xyz1,xyz):\n",
    "    def __init__(self, *args ,**kwargs):\n",
    "        xyz.__init__(self,*args) \n",
    "        xyz1.__init__(self,**kwargs)"
   ]
  },
  {
   "cell_type": "code",
   "execution_count": 9,
   "id": "94a948e8",
   "metadata": {},
   "outputs": [],
   "source": [
    "e=child(1,2,3,p=10,v=5,q=5)"
   ]
  },
  {
   "cell_type": "code",
   "execution_count": 10,
   "id": "98ddaf99",
   "metadata": {},
   "outputs": [
    {
     "data": {
      "text/plain": [
       "10"
      ]
     },
     "execution_count": 10,
     "metadata": {},
     "output_type": "execute_result"
    }
   ],
   "source": [
    "e.p"
   ]
  },
  {
   "cell_type": "code",
   "execution_count": 18,
   "id": "83747954",
   "metadata": {},
   "outputs": [],
   "source": [
    " class rewe:\n",
    "        def __init__(self,filename,filetype):\n",
    "            self.filename=filename\n",
    "            self.filetype=filetype\n",
    "           \n",
    "        def f_write(self):\n",
    "            f=open(self.filename,\"w\")\n",
    "            f.write(\"this is a function for inheritance\")\n",
    "            f.close()\n",
    "            \n",
    "        def rf_read(self):\n",
    "            f=open(self.filename,\"r\")\n",
    "            print(f.read())\n",
    "            f.close()\n",
    "            \n",
    "class child(rewe):\n",
    "    pass\n",
    "\n",
    "test1=rewe(\"testw\",\"txt\")\n",
    "test2=child(\"testq\",\"txt\")\n"
   ]
  },
  {
   "cell_type": "code",
   "execution_count": null,
   "id": "e55e4f1b",
   "metadata": {},
   "outputs": [],
   "source": [
    "#polymorphism= one single entity which has multiple occurances"
   ]
  }
 ],
 "metadata": {
  "kernelspec": {
   "display_name": "Python 3 (ipykernel)",
   "language": "python",
   "name": "python3"
  },
  "language_info": {
   "codemirror_mode": {
    "name": "ipython",
    "version": 3
   },
   "file_extension": ".py",
   "mimetype": "text/x-python",
   "name": "python",
   "nbconvert_exporter": "python",
   "pygments_lexer": "ipython3",
   "version": "3.11.5"
  }
 },
 "nbformat": 4,
 "nbformat_minor": 5
}
